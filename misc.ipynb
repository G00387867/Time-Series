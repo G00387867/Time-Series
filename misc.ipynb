{
 "cells": [
  {
   "cell_type": "markdown",
   "metadata": {},
   "source": [
    "## Time series"
   ]
  },
  {
   "cell_type": "code",
   "execution_count": 1,
   "metadata": {},
   "outputs": [],
   "source": [
    "%matplotlib inline"
   ]
  },
  {
   "cell_type": "code",
   "execution_count": 2,
   "metadata": {},
   "outputs": [],
   "source": [
    "\n",
    "import numpy as np # importing numpy\n",
    "import pandas as pd # importing pandas library\n",
    "import matplotlib.pyplot as plt  # importing matplotlib library\n",
    "import seaborn as sns # importing seaborn library\n",
    "import scipy.stats as ss\n",
    "\n",
    "# Better sized plots.\n",
    "plt.rcParams[\"figure.figsize\"] = (10, 6)\n",
    "# Nicer colours and styles for plots.\n",
    "# plt.style.use(\"ggplot\")\n",
    "plt.style.use(\"fivethirtyeight\")"
   ]
  },
  {
   "cell_type": "code",
   "execution_count": 3,
   "metadata": {},
   "outputs": [],
   "source": [
    "# Dublin Airport Hourly Data\n",
    "# https://data.gov.ie/dataset/dublin-airport-hourly-data\n",
    "url = \"https://cli.fusio.net/cli/climate_data/webdata/hly532.csv\""
   ]
  },
  {
   "cell_type": "code",
   "execution_count": 4,
   "metadata": {},
   "outputs": [],
   "source": [
    "df = pd.read_csv(url, skiprows = 23, low_memory=False, nrows = 1000)"
   ]
  },
  {
   "cell_type": "code",
   "execution_count": 5,
   "metadata": {},
   "outputs": [
    {
     "data": {
      "text/plain": [
       "0      01-jan-1990 00:00\n",
       "1      01-jan-1990 01:00\n",
       "2      01-jan-1990 02:00\n",
       "3      01-jan-1990 03:00\n",
       "4      01-jan-1990 04:00\n",
       "             ...        \n",
       "995    11-feb-1990 11:00\n",
       "996    11-feb-1990 12:00\n",
       "997    11-feb-1990 13:00\n",
       "998    11-feb-1990 14:00\n",
       "999    11-feb-1990 15:00\n",
       "Name: date, Length: 1000, dtype: object"
      ]
     },
     "execution_count": 5,
     "metadata": {},
     "output_type": "execute_result"
    }
   ],
   "source": [
    "df[\"date\"]"
   ]
  },
  {
   "cell_type": "code",
   "execution_count": 6,
   "metadata": {},
   "outputs": [],
   "source": [
    "df[\"datetime\"] = pd.to_datetime(df[\"date\"])"
   ]
  },
  {
   "cell_type": "code",
   "execution_count": 7,
   "metadata": {},
   "outputs": [
    {
     "data": {
      "text/html": [
       "<div>\n",
       "<style scoped>\n",
       "    .dataframe tbody tr th:only-of-type {\n",
       "        vertical-align: middle;\n",
       "    }\n",
       "\n",
       "    .dataframe tbody tr th {\n",
       "        vertical-align: top;\n",
       "    }\n",
       "\n",
       "    .dataframe thead th {\n",
       "        text-align: right;\n",
       "    }\n",
       "</style>\n",
       "<table border=\"1\" class=\"dataframe\">\n",
       "  <thead>\n",
       "    <tr style=\"text-align: right;\">\n",
       "      <th></th>\n",
       "      <th>date</th>\n",
       "      <th>ind</th>\n",
       "      <th>rain</th>\n",
       "      <th>ind.1</th>\n",
       "      <th>temp</th>\n",
       "      <th>ind.2</th>\n",
       "      <th>wetb</th>\n",
       "      <th>dewpt</th>\n",
       "      <th>vappr</th>\n",
       "      <th>rhum</th>\n",
       "      <th>...</th>\n",
       "      <th>wdsp</th>\n",
       "      <th>ind.4</th>\n",
       "      <th>wddir</th>\n",
       "      <th>ww</th>\n",
       "      <th>w</th>\n",
       "      <th>sun</th>\n",
       "      <th>vis</th>\n",
       "      <th>clht</th>\n",
       "      <th>clamt</th>\n",
       "      <th>datetime</th>\n",
       "    </tr>\n",
       "  </thead>\n",
       "  <tbody>\n",
       "    <tr>\n",
       "      <th>0</th>\n",
       "      <td>01-jan-1990 00:00</td>\n",
       "      <td>2</td>\n",
       "      <td>0.1</td>\n",
       "      <td>0</td>\n",
       "      <td>9.0</td>\n",
       "      <td>0</td>\n",
       "      <td>8.1</td>\n",
       "      <td>7.1</td>\n",
       "      <td>10.1</td>\n",
       "      <td>88</td>\n",
       "      <td>...</td>\n",
       "      <td>10</td>\n",
       "      <td>2</td>\n",
       "      <td>140</td>\n",
       "      <td>50</td>\n",
       "      <td>52</td>\n",
       "      <td>0.0</td>\n",
       "      <td>7000</td>\n",
       "      <td>7</td>\n",
       "      <td>8</td>\n",
       "      <td>1990-01-01 00:00:00</td>\n",
       "    </tr>\n",
       "    <tr>\n",
       "      <th>1</th>\n",
       "      <td>01-jan-1990 01:00</td>\n",
       "      <td>2</td>\n",
       "      <td>0.0</td>\n",
       "      <td>0</td>\n",
       "      <td>8.9</td>\n",
       "      <td>0</td>\n",
       "      <td>8.0</td>\n",
       "      <td>7.0</td>\n",
       "      <td>10.0</td>\n",
       "      <td>88</td>\n",
       "      <td>...</td>\n",
       "      <td>12</td>\n",
       "      <td>2</td>\n",
       "      <td>140</td>\n",
       "      <td>50</td>\n",
       "      <td>52</td>\n",
       "      <td>0.0</td>\n",
       "      <td>7000</td>\n",
       "      <td>7</td>\n",
       "      <td>8</td>\n",
       "      <td>1990-01-01 01:00:00</td>\n",
       "    </tr>\n",
       "    <tr>\n",
       "      <th>2</th>\n",
       "      <td>01-jan-1990 02:00</td>\n",
       "      <td>2</td>\n",
       "      <td>0.0</td>\n",
       "      <td>0</td>\n",
       "      <td>8.8</td>\n",
       "      <td>0</td>\n",
       "      <td>7.9</td>\n",
       "      <td>6.9</td>\n",
       "      <td>9.9</td>\n",
       "      <td>88</td>\n",
       "      <td>...</td>\n",
       "      <td>14</td>\n",
       "      <td>2</td>\n",
       "      <td>150</td>\n",
       "      <td>20</td>\n",
       "      <td>52</td>\n",
       "      <td>0.0</td>\n",
       "      <td>5000</td>\n",
       "      <td>7</td>\n",
       "      <td>8</td>\n",
       "      <td>1990-01-01 02:00:00</td>\n",
       "    </tr>\n",
       "    <tr>\n",
       "      <th>3</th>\n",
       "      <td>01-jan-1990 03:00</td>\n",
       "      <td>2</td>\n",
       "      <td>0.0</td>\n",
       "      <td>0</td>\n",
       "      <td>9.0</td>\n",
       "      <td>0</td>\n",
       "      <td>8.1</td>\n",
       "      <td>7.1</td>\n",
       "      <td>10.1</td>\n",
       "      <td>88</td>\n",
       "      <td>...</td>\n",
       "      <td>17</td>\n",
       "      <td>2</td>\n",
       "      <td>160</td>\n",
       "      <td>50</td>\n",
       "      <td>52</td>\n",
       "      <td>0.0</td>\n",
       "      <td>6000</td>\n",
       "      <td>7</td>\n",
       "      <td>8</td>\n",
       "      <td>1990-01-01 03:00:00</td>\n",
       "    </tr>\n",
       "    <tr>\n",
       "      <th>4</th>\n",
       "      <td>01-jan-1990 04:00</td>\n",
       "      <td>0</td>\n",
       "      <td>0.6</td>\n",
       "      <td>0</td>\n",
       "      <td>9.0</td>\n",
       "      <td>0</td>\n",
       "      <td>8.4</td>\n",
       "      <td>7.8</td>\n",
       "      <td>10.5</td>\n",
       "      <td>92</td>\n",
       "      <td>...</td>\n",
       "      <td>15</td>\n",
       "      <td>2</td>\n",
       "      <td>160</td>\n",
       "      <td>60</td>\n",
       "      <td>65</td>\n",
       "      <td>0.0</td>\n",
       "      <td>9000</td>\n",
       "      <td>5</td>\n",
       "      <td>8</td>\n",
       "      <td>1990-01-01 04:00:00</td>\n",
       "    </tr>\n",
       "    <tr>\n",
       "      <th>...</th>\n",
       "      <td>...</td>\n",
       "      <td>...</td>\n",
       "      <td>...</td>\n",
       "      <td>...</td>\n",
       "      <td>...</td>\n",
       "      <td>...</td>\n",
       "      <td>...</td>\n",
       "      <td>...</td>\n",
       "      <td>...</td>\n",
       "      <td>...</td>\n",
       "      <td>...</td>\n",
       "      <td>...</td>\n",
       "      <td>...</td>\n",
       "      <td>...</td>\n",
       "      <td>...</td>\n",
       "      <td>...</td>\n",
       "      <td>...</td>\n",
       "      <td>...</td>\n",
       "      <td>...</td>\n",
       "      <td>...</td>\n",
       "      <td>...</td>\n",
       "    </tr>\n",
       "    <tr>\n",
       "      <th>995</th>\n",
       "      <td>11-feb-1990 11:00</td>\n",
       "      <td>0</td>\n",
       "      <td>0.1</td>\n",
       "      <td>0</td>\n",
       "      <td>7.5</td>\n",
       "      <td>0</td>\n",
       "      <td>5.8</td>\n",
       "      <td>3.5</td>\n",
       "      <td>7.9</td>\n",
       "      <td>76</td>\n",
       "      <td>...</td>\n",
       "      <td>22</td>\n",
       "      <td>2</td>\n",
       "      <td>190</td>\n",
       "      <td>60</td>\n",
       "      <td>62</td>\n",
       "      <td>0.0</td>\n",
       "      <td>30000</td>\n",
       "      <td>45</td>\n",
       "      <td>8</td>\n",
       "      <td>1990-02-11 11:00:00</td>\n",
       "    </tr>\n",
       "    <tr>\n",
       "      <th>996</th>\n",
       "      <td>11-feb-1990 12:00</td>\n",
       "      <td>2</td>\n",
       "      <td>0.0</td>\n",
       "      <td>0</td>\n",
       "      <td>8.0</td>\n",
       "      <td>0</td>\n",
       "      <td>6.5</td>\n",
       "      <td>4.6</td>\n",
       "      <td>8.5</td>\n",
       "      <td>79</td>\n",
       "      <td>...</td>\n",
       "      <td>24</td>\n",
       "      <td>2</td>\n",
       "      <td>190</td>\n",
       "      <td>60</td>\n",
       "      <td>62</td>\n",
       "      <td>0.1</td>\n",
       "      <td>20000</td>\n",
       "      <td>100</td>\n",
       "      <td>7</td>\n",
       "      <td>1990-02-11 12:00:00</td>\n",
       "    </tr>\n",
       "    <tr>\n",
       "      <th>997</th>\n",
       "      <td>11-feb-1990 13:00</td>\n",
       "      <td>0</td>\n",
       "      <td>0.6</td>\n",
       "      <td>0</td>\n",
       "      <td>7.5</td>\n",
       "      <td>0</td>\n",
       "      <td>6.1</td>\n",
       "      <td>4.3</td>\n",
       "      <td>8.3</td>\n",
       "      <td>80</td>\n",
       "      <td>...</td>\n",
       "      <td>22</td>\n",
       "      <td>2</td>\n",
       "      <td>190</td>\n",
       "      <td>60</td>\n",
       "      <td>62</td>\n",
       "      <td>0.0</td>\n",
       "      <td>12000</td>\n",
       "      <td>20</td>\n",
       "      <td>8</td>\n",
       "      <td>1990-02-11 13:00:00</td>\n",
       "    </tr>\n",
       "    <tr>\n",
       "      <th>998</th>\n",
       "      <td>11-feb-1990 14:00</td>\n",
       "      <td>2</td>\n",
       "      <td>0.0</td>\n",
       "      <td>0</td>\n",
       "      <td>7.5</td>\n",
       "      <td>0</td>\n",
       "      <td>5.5</td>\n",
       "      <td>2.7</td>\n",
       "      <td>7.4</td>\n",
       "      <td>72</td>\n",
       "      <td>...</td>\n",
       "      <td>20</td>\n",
       "      <td>2</td>\n",
       "      <td>220</td>\n",
       "      <td>21</td>\n",
       "      <td>62</td>\n",
       "      <td>0.1</td>\n",
       "      <td>27000</td>\n",
       "      <td>40</td>\n",
       "      <td>7</td>\n",
       "      <td>1990-02-11 14:00:00</td>\n",
       "    </tr>\n",
       "    <tr>\n",
       "      <th>999</th>\n",
       "      <td>11-feb-1990 15:00</td>\n",
       "      <td>2</td>\n",
       "      <td>0.0</td>\n",
       "      <td>0</td>\n",
       "      <td>6.5</td>\n",
       "      <td>0</td>\n",
       "      <td>4.6</td>\n",
       "      <td>1.8</td>\n",
       "      <td>7.0</td>\n",
       "      <td>72</td>\n",
       "      <td>...</td>\n",
       "      <td>24</td>\n",
       "      <td>2</td>\n",
       "      <td>230</td>\n",
       "      <td>21</td>\n",
       "      <td>62</td>\n",
       "      <td>0.1</td>\n",
       "      <td>25000</td>\n",
       "      <td>32</td>\n",
       "      <td>7</td>\n",
       "      <td>1990-02-11 15:00:00</td>\n",
       "    </tr>\n",
       "  </tbody>\n",
       "</table>\n",
       "<p>1000 rows × 22 columns</p>\n",
       "</div>"
      ],
      "text/plain": [
       "                  date  ind  rain  ind.1  temp  ind.2  wetb  dewpt  vappr  \\\n",
       "0    01-jan-1990 00:00    2   0.1      0   9.0      0   8.1    7.1   10.1   \n",
       "1    01-jan-1990 01:00    2   0.0      0   8.9      0   8.0    7.0   10.0   \n",
       "2    01-jan-1990 02:00    2   0.0      0   8.8      0   7.9    6.9    9.9   \n",
       "3    01-jan-1990 03:00    2   0.0      0   9.0      0   8.1    7.1   10.1   \n",
       "4    01-jan-1990 04:00    0   0.6      0   9.0      0   8.4    7.8   10.5   \n",
       "..                 ...  ...   ...    ...   ...    ...   ...    ...    ...   \n",
       "995  11-feb-1990 11:00    0   0.1      0   7.5      0   5.8    3.5    7.9   \n",
       "996  11-feb-1990 12:00    2   0.0      0   8.0      0   6.5    4.6    8.5   \n",
       "997  11-feb-1990 13:00    0   0.6      0   7.5      0   6.1    4.3    8.3   \n",
       "998  11-feb-1990 14:00    2   0.0      0   7.5      0   5.5    2.7    7.4   \n",
       "999  11-feb-1990 15:00    2   0.0      0   6.5      0   4.6    1.8    7.0   \n",
       "\n",
       "     rhum  ...  wdsp  ind.4  wddir  ww   w  sun    vis  clht  clamt  \\\n",
       "0      88  ...    10      2    140  50  52  0.0   7000     7      8   \n",
       "1      88  ...    12      2    140  50  52  0.0   7000     7      8   \n",
       "2      88  ...    14      2    150  20  52  0.0   5000     7      8   \n",
       "3      88  ...    17      2    160  50  52  0.0   6000     7      8   \n",
       "4      92  ...    15      2    160  60  65  0.0   9000     5      8   \n",
       "..    ...  ...   ...    ...    ...  ..  ..  ...    ...   ...    ...   \n",
       "995    76  ...    22      2    190  60  62  0.0  30000    45      8   \n",
       "996    79  ...    24      2    190  60  62  0.1  20000   100      7   \n",
       "997    80  ...    22      2    190  60  62  0.0  12000    20      8   \n",
       "998    72  ...    20      2    220  21  62  0.1  27000    40      7   \n",
       "999    72  ...    24      2    230  21  62  0.1  25000    32      7   \n",
       "\n",
       "               datetime  \n",
       "0   1990-01-01 00:00:00  \n",
       "1   1990-01-01 01:00:00  \n",
       "2   1990-01-01 02:00:00  \n",
       "3   1990-01-01 03:00:00  \n",
       "4   1990-01-01 04:00:00  \n",
       "..                  ...  \n",
       "995 1990-02-11 11:00:00  \n",
       "996 1990-02-11 12:00:00  \n",
       "997 1990-02-11 13:00:00  \n",
       "998 1990-02-11 14:00:00  \n",
       "999 1990-02-11 15:00:00  \n",
       "\n",
       "[1000 rows x 22 columns]"
      ]
     },
     "execution_count": 7,
     "metadata": {},
     "output_type": "execute_result"
    }
   ],
   "source": [
    "df"
   ]
  },
  {
   "cell_type": "code",
   "execution_count": 8,
   "metadata": {},
   "outputs": [
    {
     "data": {
      "text/plain": [
       "<matplotlib.axes._subplots.AxesSubplot at 0x1e4619fc1c0>"
      ]
     },
     "execution_count": 8,
     "metadata": {},
     "output_type": "execute_result"
    },
    {
     "data": {
      "image/png": "[encoded data removed]",
      "text/plain": [
       "<Figure size 720x432 with 1 Axes>"
      ]
     },
     "metadata": {},
     "output_type": "display_data"
    }
   ],
   "source": [
    "sns.lineplot(x = \"datetime\", y= \"temp\", data = df[:])"
   ]
  },
  {
   "cell_type": "markdown",
   "metadata": {},
   "source": [
    "---"
   ]
  },
  {
   "cell_type": "markdown",
   "metadata": {},
   "source": []
  },
  {
   "cell_type": "code",
   "execution_count": 9,
   "metadata": {},
   "outputs": [
    {
     "name": "stdout",
     "output_type": "stream",
     "text": [
      "The Zen of Python, by Tim Peters\n",
      "\n",
      "Beautiful is better than ugly.\n",
      "Explicit is better than implicit.\n",
      "Simple is better than complex.\n",
      "Complex is better than complicated.\n",
      "Flat is better than nested.\n",
      "Sparse is better than dense.\n",
      "Readability counts.\n",
      "Special cases aren't special enough to break the rules.\n",
      "Although practicality beats purity.\n",
      "Errors should never pass silently.\n",
      "Unless explicitly silenced.\n",
      "In the face of ambiguity, refuse the temptation to guess.\n",
      "There should be one-- and preferably only one --obvious way to do it.\n",
      "Although that way may not be obvious at first unless you're Dutch.\n",
      "Now is better than never.\n",
      "Although never is often better than *right* now.\n",
      "If the implementation is hard to explain, it's a bad idea.\n",
      "If the implementation is easy to explain, it may be a good idea.\n",
      "Namespaces are one honking great idea -- let's do more of those!\n"
     ]
    }
   ],
   "source": [
    "import this"
   ]
  },
  {
   "cell_type": "markdown",
   "metadata": {},
   "source": [
    "---\n"
   ]
  },
  {
   "cell_type": "markdown",
   "metadata": {},
   "source": [
    "### Simulation"
   ]
  },
  {
   "cell_type": "code",
   "execution_count": 10,
   "metadata": {},
   "outputs": [
    {
     "data": {
      "text/plain": [
       "DatetimeIndex(['2020-01-01 00:00:00', '2020-01-01 01:00:00',\n",
       "               '2020-01-01 02:00:00', '2020-01-01 03:00:00',\n",
       "               '2020-01-01 04:00:00', '2020-01-01 05:00:00',\n",
       "               '2020-01-01 06:00:00', '2020-01-01 07:00:00',\n",
       "               '2020-01-01 08:00:00', '2020-01-01 09:00:00',\n",
       "               '2020-01-01 10:00:00', '2020-01-01 11:00:00',\n",
       "               '2020-01-01 12:00:00', '2020-01-01 13:00:00',\n",
       "               '2020-01-01 14:00:00', '2020-01-01 15:00:00',\n",
       "               '2020-01-01 16:00:00', '2020-01-01 17:00:00',\n",
       "               '2020-01-01 18:00:00', '2020-01-01 19:00:00',\n",
       "               '2020-01-01 20:00:00', '2020-01-01 21:00:00',\n",
       "               '2020-01-01 22:00:00', '2020-01-01 23:00:00',\n",
       "               '2020-01-02 00:00:00', '2020-01-02 01:00:00',\n",
       "               '2020-01-02 02:00:00', '2020-01-02 03:00:00',\n",
       "               '2020-01-02 04:00:00', '2020-01-02 05:00:00',\n",
       "               '2020-01-02 06:00:00', '2020-01-02 07:00:00',\n",
       "               '2020-01-02 08:00:00', '2020-01-02 09:00:00',\n",
       "               '2020-01-02 10:00:00', '2020-01-02 11:00:00',\n",
       "               '2020-01-02 12:00:00', '2020-01-02 13:00:00',\n",
       "               '2020-01-02 14:00:00', '2020-01-02 15:00:00',\n",
       "               '2020-01-02 16:00:00', '2020-01-02 17:00:00',\n",
       "               '2020-01-02 18:00:00', '2020-01-02 19:00:00',\n",
       "               '2020-01-02 20:00:00', '2020-01-02 21:00:00',\n",
       "               '2020-01-02 22:00:00', '2020-01-02 23:00:00',\n",
       "               '2020-01-03 00:00:00', '2020-01-03 01:00:00',\n",
       "               '2020-01-03 02:00:00', '2020-01-03 03:00:00',\n",
       "               '2020-01-03 04:00:00', '2020-01-03 05:00:00',\n",
       "               '2020-01-03 06:00:00', '2020-01-03 07:00:00',\n",
       "               '2020-01-03 08:00:00', '2020-01-03 09:00:00',\n",
       "               '2020-01-03 10:00:00', '2020-01-03 11:00:00',\n",
       "               '2020-01-03 12:00:00', '2020-01-03 13:00:00',\n",
       "               '2020-01-03 14:00:00', '2020-01-03 15:00:00',\n",
       "               '2020-01-03 16:00:00', '2020-01-03 17:00:00',\n",
       "               '2020-01-03 18:00:00', '2020-01-03 19:00:00',\n",
       "               '2020-01-03 20:00:00', '2020-01-03 21:00:00',\n",
       "               '2020-01-03 22:00:00', '2020-01-03 23:00:00'],\n",
       "              dtype='datetime64[ns]', freq='H')"
      ]
     },
     "execution_count": 10,
     "metadata": {},
     "output_type": "execute_result"
    }
   ],
   "source": [
    "# adapted from pandas.pydata timeseries\n",
    "# 72 hours starting with midnight Jan 1st, 2020\n",
    "rng = pd.date_range(\"1/1/2020\", periods = 72, freq = \"H\")\n",
    "rng"
   ]
  },
  {
   "cell_type": "code",
   "execution_count": 11,
   "metadata": {},
   "outputs": [],
   "source": [
    "# ts = pd.Series(np.random.randn(len(rng)), index = rng)\n",
    "ts = pd.DataFrame(np.random.default_rng().poisson(10, len(rng)), index = rng, columns = [\"admissions\"] )\n",
    "# np.random.poisson(5, 10) # oldway numpy\n",
    "# np.random.default_rng().poisson()  # newway numpy"
   ]
  },
  {
   "cell_type": "code",
   "execution_count": 12,
   "metadata": {},
   "outputs": [
    {
     "data": {
      "text/html": [
       "<div>\n",
       "<style scoped>\n",
       "    .dataframe tbody tr th:only-of-type {\n",
       "        vertical-align: middle;\n",
       "    }\n",
       "\n",
       "    .dataframe tbody tr th {\n",
       "        vertical-align: top;\n",
       "    }\n",
       "\n",
       "    .dataframe thead th {\n",
       "        text-align: right;\n",
       "    }\n",
       "</style>\n",
       "<table border=\"1\" class=\"dataframe\">\n",
       "  <thead>\n",
       "    <tr style=\"text-align: right;\">\n",
       "      <th></th>\n",
       "      <th>admissions</th>\n",
       "    </tr>\n",
       "  </thead>\n",
       "  <tbody>\n",
       "    <tr>\n",
       "      <th>2020-01-01 00:00:00</th>\n",
       "      <td>12</td>\n",
       "    </tr>\n",
       "    <tr>\n",
       "      <th>2020-01-01 01:00:00</th>\n",
       "      <td>10</td>\n",
       "    </tr>\n",
       "    <tr>\n",
       "      <th>2020-01-01 02:00:00</th>\n",
       "      <td>8</td>\n",
       "    </tr>\n",
       "    <tr>\n",
       "      <th>2020-01-01 03:00:00</th>\n",
       "      <td>4</td>\n",
       "    </tr>\n",
       "    <tr>\n",
       "      <th>2020-01-01 04:00:00</th>\n",
       "      <td>10</td>\n",
       "    </tr>\n",
       "    <tr>\n",
       "      <th>...</th>\n",
       "      <td>...</td>\n",
       "    </tr>\n",
       "    <tr>\n",
       "      <th>2020-01-03 19:00:00</th>\n",
       "      <td>16</td>\n",
       "    </tr>\n",
       "    <tr>\n",
       "      <th>2020-01-03 20:00:00</th>\n",
       "      <td>5</td>\n",
       "    </tr>\n",
       "    <tr>\n",
       "      <th>2020-01-03 21:00:00</th>\n",
       "      <td>6</td>\n",
       "    </tr>\n",
       "    <tr>\n",
       "      <th>2020-01-03 22:00:00</th>\n",
       "      <td>6</td>\n",
       "    </tr>\n",
       "    <tr>\n",
       "      <th>2020-01-03 23:00:00</th>\n",
       "      <td>10</td>\n",
       "    </tr>\n",
       "  </tbody>\n",
       "</table>\n",
       "<p>72 rows × 1 columns</p>\n",
       "</div>"
      ],
      "text/plain": [
       "                     admissions\n",
       "2020-01-01 00:00:00          12\n",
       "2020-01-01 01:00:00          10\n",
       "2020-01-01 02:00:00           8\n",
       "2020-01-01 03:00:00           4\n",
       "2020-01-01 04:00:00          10\n",
       "...                         ...\n",
       "2020-01-03 19:00:00          16\n",
       "2020-01-03 20:00:00           5\n",
       "2020-01-03 21:00:00           6\n",
       "2020-01-03 22:00:00           6\n",
       "2020-01-03 23:00:00          10\n",
       "\n",
       "[72 rows x 1 columns]"
      ]
     },
     "execution_count": 12,
     "metadata": {},
     "output_type": "execute_result"
    }
   ],
   "source": [
    "ts"
   ]
  },
  {
   "cell_type": "markdown",
   "metadata": {},
   "source": [
    "### Accessing and grouping"
   ]
  },
  {
   "cell_type": "code",
   "execution_count": 13,
   "metadata": {},
   "outputs": [
    {
     "data": {
      "text/html": [
       "<div>\n",
       "<style scoped>\n",
       "    .dataframe tbody tr th:only-of-type {\n",
       "        vertical-align: middle;\n",
       "    }\n",
       "\n",
       "    .dataframe tbody tr th {\n",
       "        vertical-align: top;\n",
       "    }\n",
       "\n",
       "    .dataframe thead th {\n",
       "        text-align: right;\n",
       "    }\n",
       "</style>\n",
       "<table border=\"1\" class=\"dataframe\">\n",
       "  <thead>\n",
       "    <tr style=\"text-align: right;\">\n",
       "      <th></th>\n",
       "      <th>admissions</th>\n",
       "    </tr>\n",
       "  </thead>\n",
       "  <tbody>\n",
       "    <tr>\n",
       "      <th>count</th>\n",
       "      <td>72.000000</td>\n",
       "    </tr>\n",
       "    <tr>\n",
       "      <th>mean</th>\n",
       "      <td>10.069444</td>\n",
       "    </tr>\n",
       "    <tr>\n",
       "      <th>std</th>\n",
       "      <td>3.087122</td>\n",
       "    </tr>\n",
       "    <tr>\n",
       "      <th>min</th>\n",
       "      <td>3.000000</td>\n",
       "    </tr>\n",
       "    <tr>\n",
       "      <th>25%</th>\n",
       "      <td>8.000000</td>\n",
       "    </tr>\n",
       "    <tr>\n",
       "      <th>50%</th>\n",
       "      <td>10.000000</td>\n",
       "    </tr>\n",
       "    <tr>\n",
       "      <th>75%</th>\n",
       "      <td>12.000000</td>\n",
       "    </tr>\n",
       "    <tr>\n",
       "      <th>max</th>\n",
       "      <td>16.000000</td>\n",
       "    </tr>\n",
       "  </tbody>\n",
       "</table>\n",
       "</div>"
      ],
      "text/plain": [
       "       admissions\n",
       "count   72.000000\n",
       "mean    10.069444\n",
       "std      3.087122\n",
       "min      3.000000\n",
       "25%      8.000000\n",
       "50%     10.000000\n",
       "75%     12.000000\n",
       "max     16.000000"
      ]
     },
     "execution_count": 13,
     "metadata": {},
     "output_type": "execute_result"
    }
   ],
   "source": [
    "ts.describe()"
   ]
  },
  {
   "cell_type": "code",
   "execution_count": 14,
   "metadata": {},
   "outputs": [
    {
     "data": {
      "text/html": [
       "<div>\n",
       "<style scoped>\n",
       "    .dataframe tbody tr th:only-of-type {\n",
       "        vertical-align: middle;\n",
       "    }\n",
       "\n",
       "    .dataframe tbody tr th {\n",
       "        vertical-align: top;\n",
       "    }\n",
       "\n",
       "    .dataframe thead th {\n",
       "        text-align: right;\n",
       "    }\n",
       "</style>\n",
       "<table border=\"1\" class=\"dataframe\">\n",
       "  <thead>\n",
       "    <tr style=\"text-align: right;\">\n",
       "      <th></th>\n",
       "      <th>admissions</th>\n",
       "    </tr>\n",
       "  </thead>\n",
       "  <tbody>\n",
       "    <tr>\n",
       "      <th>2020-01-01 03:00:00</th>\n",
       "      <td>4</td>\n",
       "    </tr>\n",
       "    <tr>\n",
       "      <th>2020-01-01 04:00:00</th>\n",
       "      <td>10</td>\n",
       "    </tr>\n",
       "    <tr>\n",
       "      <th>2020-01-01 05:00:00</th>\n",
       "      <td>13</td>\n",
       "    </tr>\n",
       "    <tr>\n",
       "      <th>2020-01-01 06:00:00</th>\n",
       "      <td>14</td>\n",
       "    </tr>\n",
       "    <tr>\n",
       "      <th>2020-01-01 07:00:00</th>\n",
       "      <td>14</td>\n",
       "    </tr>\n",
       "    <tr>\n",
       "      <th>2020-01-01 08:00:00</th>\n",
       "      <td>7</td>\n",
       "    </tr>\n",
       "    <tr>\n",
       "      <th>2020-01-01 09:00:00</th>\n",
       "      <td>11</td>\n",
       "    </tr>\n",
       "    <tr>\n",
       "      <th>2020-01-01 10:00:00</th>\n",
       "      <td>12</td>\n",
       "    </tr>\n",
       "    <tr>\n",
       "      <th>2020-01-01 11:00:00</th>\n",
       "      <td>8</td>\n",
       "    </tr>\n",
       "    <tr>\n",
       "      <th>2020-01-01 12:00:00</th>\n",
       "      <td>10</td>\n",
       "    </tr>\n",
       "    <tr>\n",
       "      <th>2020-01-01 13:00:00</th>\n",
       "      <td>8</td>\n",
       "    </tr>\n",
       "    <tr>\n",
       "      <th>2020-01-01 14:00:00</th>\n",
       "      <td>9</td>\n",
       "    </tr>\n",
       "    <tr>\n",
       "      <th>2020-01-01 15:00:00</th>\n",
       "      <td>15</td>\n",
       "    </tr>\n",
       "    <tr>\n",
       "      <th>2020-01-01 16:00:00</th>\n",
       "      <td>14</td>\n",
       "    </tr>\n",
       "    <tr>\n",
       "      <th>2020-01-01 17:00:00</th>\n",
       "      <td>11</td>\n",
       "    </tr>\n",
       "    <tr>\n",
       "      <th>2020-01-01 18:00:00</th>\n",
       "      <td>6</td>\n",
       "    </tr>\n",
       "    <tr>\n",
       "      <th>2020-01-01 19:00:00</th>\n",
       "      <td>13</td>\n",
       "    </tr>\n",
       "    <tr>\n",
       "      <th>2020-01-01 20:00:00</th>\n",
       "      <td>3</td>\n",
       "    </tr>\n",
       "    <tr>\n",
       "      <th>2020-01-01 21:00:00</th>\n",
       "      <td>4</td>\n",
       "    </tr>\n",
       "    <tr>\n",
       "      <th>2020-01-01 22:00:00</th>\n",
       "      <td>12</td>\n",
       "    </tr>\n",
       "    <tr>\n",
       "      <th>2020-01-01 23:00:00</th>\n",
       "      <td>11</td>\n",
       "    </tr>\n",
       "    <tr>\n",
       "      <th>2020-01-02 00:00:00</th>\n",
       "      <td>8</td>\n",
       "    </tr>\n",
       "    <tr>\n",
       "      <th>2020-01-02 01:00:00</th>\n",
       "      <td>8</td>\n",
       "    </tr>\n",
       "    <tr>\n",
       "      <th>2020-01-02 02:00:00</th>\n",
       "      <td>11</td>\n",
       "    </tr>\n",
       "    <tr>\n",
       "      <th>2020-01-02 03:00:00</th>\n",
       "      <td>5</td>\n",
       "    </tr>\n",
       "    <tr>\n",
       "      <th>2020-01-02 04:00:00</th>\n",
       "      <td>12</td>\n",
       "    </tr>\n",
       "    <tr>\n",
       "      <th>2020-01-02 05:00:00</th>\n",
       "      <td>7</td>\n",
       "    </tr>\n",
       "    <tr>\n",
       "      <th>2020-01-02 06:00:00</th>\n",
       "      <td>12</td>\n",
       "    </tr>\n",
       "    <tr>\n",
       "      <th>2020-01-02 07:00:00</th>\n",
       "      <td>5</td>\n",
       "    </tr>\n",
       "    <tr>\n",
       "      <th>2020-01-02 08:00:00</th>\n",
       "      <td>9</td>\n",
       "    </tr>\n",
       "    <tr>\n",
       "      <th>2020-01-02 09:00:00</th>\n",
       "      <td>13</td>\n",
       "    </tr>\n",
       "    <tr>\n",
       "      <th>2020-01-02 10:00:00</th>\n",
       "      <td>12</td>\n",
       "    </tr>\n",
       "    <tr>\n",
       "      <th>2020-01-02 11:00:00</th>\n",
       "      <td>12</td>\n",
       "    </tr>\n",
       "    <tr>\n",
       "      <th>2020-01-02 12:00:00</th>\n",
       "      <td>11</td>\n",
       "    </tr>\n",
       "    <tr>\n",
       "      <th>2020-01-02 13:00:00</th>\n",
       "      <td>10</td>\n",
       "    </tr>\n",
       "    <tr>\n",
       "      <th>2020-01-02 14:00:00</th>\n",
       "      <td>9</td>\n",
       "    </tr>\n",
       "    <tr>\n",
       "      <th>2020-01-02 15:00:00</th>\n",
       "      <td>9</td>\n",
       "    </tr>\n",
       "    <tr>\n",
       "      <th>2020-01-02 16:00:00</th>\n",
       "      <td>9</td>\n",
       "    </tr>\n",
       "    <tr>\n",
       "      <th>2020-01-02 17:00:00</th>\n",
       "      <td>11</td>\n",
       "    </tr>\n",
       "    <tr>\n",
       "      <th>2020-01-02 18:00:00</th>\n",
       "      <td>15</td>\n",
       "    </tr>\n",
       "    <tr>\n",
       "      <th>2020-01-02 19:00:00</th>\n",
       "      <td>5</td>\n",
       "    </tr>\n",
       "    <tr>\n",
       "      <th>2020-01-02 20:00:00</th>\n",
       "      <td>6</td>\n",
       "    </tr>\n",
       "    <tr>\n",
       "      <th>2020-01-02 21:00:00</th>\n",
       "      <td>14</td>\n",
       "    </tr>\n",
       "    <tr>\n",
       "      <th>2020-01-02 22:00:00</th>\n",
       "      <td>10</td>\n",
       "    </tr>\n",
       "    <tr>\n",
       "      <th>2020-01-02 23:00:00</th>\n",
       "      <td>8</td>\n",
       "    </tr>\n",
       "  </tbody>\n",
       "</table>\n",
       "</div>"
      ],
      "text/plain": [
       "                     admissions\n",
       "2020-01-01 03:00:00           4\n",
       "2020-01-01 04:00:00          10\n",
       "2020-01-01 05:00:00          13\n",
       "2020-01-01 06:00:00          14\n",
       "2020-01-01 07:00:00          14\n",
       "2020-01-01 08:00:00           7\n",
       "2020-01-01 09:00:00          11\n",
       "2020-01-01 10:00:00          12\n",
       "2020-01-01 11:00:00           8\n",
       "2020-01-01 12:00:00          10\n",
       "2020-01-01 13:00:00           8\n",
       "2020-01-01 14:00:00           9\n",
       "2020-01-01 15:00:00          15\n",
       "2020-01-01 16:00:00          14\n",
       "2020-01-01 17:00:00          11\n",
       "2020-01-01 18:00:00           6\n",
       "2020-01-01 19:00:00          13\n",
       "2020-01-01 20:00:00           3\n",
       "2020-01-01 21:00:00           4\n",
       "2020-01-01 22:00:00          12\n",
       "2020-01-01 23:00:00          11\n",
       "2020-01-02 00:00:00           8\n",
       "2020-01-02 01:00:00           8\n",
       "2020-01-02 02:00:00          11\n",
       "2020-01-02 03:00:00           5\n",
       "2020-01-02 04:00:00          12\n",
       "2020-01-02 05:00:00           7\n",
       "2020-01-02 06:00:00          12\n",
       "2020-01-02 07:00:00           5\n",
       "2020-01-02 08:00:00           9\n",
       "2020-01-02 09:00:00          13\n",
       "2020-01-02 10:00:00          12\n",
       "2020-01-02 11:00:00          12\n",
       "2020-01-02 12:00:00          11\n",
       "2020-01-02 13:00:00          10\n",
       "2020-01-02 14:00:00           9\n",
       "2020-01-02 15:00:00           9\n",
       "2020-01-02 16:00:00           9\n",
       "2020-01-02 17:00:00          11\n",
       "2020-01-02 18:00:00          15\n",
       "2020-01-02 19:00:00           5\n",
       "2020-01-02 20:00:00           6\n",
       "2020-01-02 21:00:00          14\n",
       "2020-01-02 22:00:00          10\n",
       "2020-01-02 23:00:00           8"
      ]
     },
     "execution_count": 14,
     "metadata": {},
     "output_type": "execute_result"
    }
   ],
   "source": [
    "ts.loc[\"2020-01-01 03:00:00\": \"2020-01-02- 23:00:00\"]#.mean()"
   ]
  },
  {
   "cell_type": "code",
   "execution_count": 15,
   "metadata": {},
   "outputs": [
    {
     "data": {
      "text/html": [
       "<div>\n",
       "<style scoped>\n",
       "    .dataframe tbody tr th:only-of-type {\n",
       "        vertical-align: middle;\n",
       "    }\n",
       "\n",
       "    .dataframe tbody tr th {\n",
       "        vertical-align: top;\n",
       "    }\n",
       "\n",
       "    .dataframe thead th {\n",
       "        text-align: right;\n",
       "    }\n",
       "</style>\n",
       "<table border=\"1\" class=\"dataframe\">\n",
       "  <thead>\n",
       "    <tr style=\"text-align: right;\">\n",
       "      <th></th>\n",
       "      <th>admissions</th>\n",
       "    </tr>\n",
       "  </thead>\n",
       "  <tbody>\n",
       "    <tr>\n",
       "      <th>2020-01-01</th>\n",
       "      <td>9.958333</td>\n",
       "    </tr>\n",
       "    <tr>\n",
       "      <th>2020-01-02</th>\n",
       "      <td>9.625000</td>\n",
       "    </tr>\n",
       "    <tr>\n",
       "      <th>2020-01-03</th>\n",
       "      <td>10.625000</td>\n",
       "    </tr>\n",
       "  </tbody>\n",
       "</table>\n",
       "</div>"
      ],
      "text/plain": [
       "            admissions\n",
       "2020-01-01    9.958333\n",
       "2020-01-02    9.625000\n",
       "2020-01-03   10.625000"
      ]
     },
     "execution_count": 15,
     "metadata": {},
     "output_type": "execute_result"
    }
   ],
   "source": [
    "ts.resample(\"D\").mean()\n"
   ]
  },
  {
   "cell_type": "markdown",
   "metadata": {},
   "source": [
    " ---\n",
    "## Bias"
   ]
  },
  {
   "cell_type": "markdown",
   "metadata": {},
   "source": [
    "### Location and scale"
   ]
  },
  {
   "cell_type": "code",
   "execution_count": 16,
   "metadata": {},
   "outputs": [
    {
     "data": {
      "image/png": "[encoded data removed]",
      "text/plain": [
       "<Figure size 720x432 with 1 Axes>"
      ]
     },
     "metadata": {},
     "output_type": "display_data"
    }
   ],
   "source": [
    "x = np.linspace(-10.0, 10.0, 1000)\n",
    "\n",
    "plt.fill(x, ss.norm.pdf(x, loc= 0.0, scale=1.0), label=\"$\\mu = 0.0, \\sigma = 1.0$\", c='b', alpha=0.6, lw=3.0)\n",
    "plt.fill(x, ss.norm.pdf(x, loc= 2.0, scale=1.0), label=\"$\\mu = 2.0, \\sigma = 1.0$\", c='r', alpha=0.6, lw=3.0)\n",
    "plt.fill(x, ss.norm.pdf(x, loc= 0.0, scale=2.0), label=\"$\\mu = 0.0, \\sigma = 2.0$\", c='g', alpha=0.6, lw=3.0)\n",
    "plt.fill(x, ss.norm.pdf(x, loc=-1.0, scale=0.6), label=\"$\\mu =-1.0, \\sigma = 0.6$\", c='y', alpha=0.6, lw=3.0)\n",
    "\n",
    "plt.title(\"Normal distribution for different $\\mu$ and $\\sigma$\")\n",
    "plt.legend();"
   ]
  },
  {
   "cell_type": "markdown",
   "metadata": {},
   "source": [
    "---\n",
    "### Probability \n"
   ]
  },
  {
   "cell_type": "code",
   "execution_count": 17,
   "metadata": {},
   "outputs": [
    {
     "data": {
      "image/png": "[encoded data removed]",
      "text/plain": [
       "<Figure size 720x432 with 1 Axes>"
      ]
     },
     "metadata": {},
     "output_type": "display_data"
    }
   ],
   "source": [
    "x = np.linspace(-3.0, 3.0, 1000)\n",
    "y = ss.norm.pdf(x, loc= 0.0, scale=1.0)\n",
    "\n",
    "xseg = x[np.logical_and(-1.0 < x,  x < 1.4)]\n",
    "yseg = y[np.logical_and(-1.0 < x,  x < 1.4)]\n",
    "\n",
    "plt.plot(x, y, color='k', alpha=0.5)\n",
    "plt.fill_between(xseg, yseg, color='b', alpha=0.5)\n",
    "plt.axvline(x=-1.0, color='grey', linestyle=':')\n",
    "plt.axvline(x= 1.4, color='grey', linestyle=':')\n",
    "\n",
    "plt.text(0.2, 0.15,\n",
    "         r'$P (a \\leq X \\leq b) = \\int_a^b \\frac{1}{\\sqrt{2\\pi\\sigma^2} } e^{ -\\frac{(x-\\mu)^2}{2\\sigma^2} } \\, dx$',\n",
    "         horizontalalignment='center', size=17)\n",
    "\n",
    "plt.axhline(y= 0.0, color='black', linestyle='-')\n",
    "\n",
    "plt.title(\"Probability of $x$ between $a$ and $b$\");"
   ]
  },
  {
   "cell_type": "code",
   "execution_count": 18,
   "metadata": {},
   "outputs": [
    {
     "data": {
      "image/png": "[encoded data removed]",
      "text/plain": [
       "<Figure size 720x432 with 1 Axes>"
      ]
     },
     "metadata": {},
     "output_type": "display_data"
    }
   ],
   "source": [
    "x = np.linspace(-5.0, 5.0, 10000)\n",
    "plt.plot(x, ss.norm.pdf(x, loc=0.0, scale=1.0), 'k-', lw=1.0)\n",
    "\n",
    "xseg = x[np.logical_and(-5.0 <= x, x <= -3.0)]\n",
    "plt.fill_between(xseg, ss.norm.pdf(xseg), color='y', alpha=0.5, linewidth=0)\n",
    "xseg = x[np.logical_and(-3.0 <= x, x <= -2.0)]\n",
    "plt.fill_between(xseg, ss.norm.pdf(xseg), color='r', alpha=0.5, linewidth=0)\n",
    "xseg = x[np.logical_and(-2.0 <= x, x <= -1.0)]\n",
    "plt.fill_between(xseg, ss.norm.pdf(xseg), color='g', alpha=0.5, linewidth=0)\n",
    "xseg = x[np.logical_and(-1.0 <= x, x <=  1.0)]\n",
    "plt.fill_between(xseg, ss.norm.pdf(xseg), color='b', alpha=0.5, linewidth=0, label=\"$1 \\sigma = 68.27\\%$\")\n",
    "xseg = x[np.logical_and( 1.0 <= x, x <=  2.0)]\n",
    "plt.fill_between(xseg, ss.norm.pdf(xseg), color='g', alpha=0.5, linewidth=0, label=\"$2 \\sigma = 95.45\\%$\")\n",
    "xseg = x[np.logical_and( 2.0 <= x, x <=  3.0)]\n",
    "plt.fill_between(xseg, ss.norm.pdf(xseg), color='r', alpha=0.5, linewidth=0, label=\"$3 \\sigma = 99.73\\%$\")\n",
    "xseg = x[np.logical_and( 3.0 <= x, x <=  5.0)]\n",
    "plt.fill_between(xseg, ss.norm.pdf(xseg), color='y', alpha=0.5, linewidth=0)\n",
    "\n",
    "plt.title(\"Normal Disribution - Probability Distribution Function\")\n",
    "plt.legend();"
   ]
  },
  {
   "cell_type": "markdown",
   "metadata": {},
   "source": [
    "---\n",
    "### Sampling distribution"
   ]
  },
  {
   "cell_type": "code",
   "execution_count": 19,
   "metadata": {},
   "outputs": [
    {
     "name": "stdout",
     "output_type": "stream",
     "text": [
      "[[ 1.118  0.325 -0.327 ... -1.602  1.543  0.343]\n",
      " [ 0.272 -0.773  1.486 ...  0.438 -0.835 -0.756]\n",
      " [ 0.869  0.110 -1.079 ...  1.027  0.674 -1.434]\n",
      " ...\n",
      " [-0.011 -0.978 -1.846 ... -0.264 -1.366 -1.039]\n",
      " [-0.552  0.224 -0.074 ... -1.225 -0.700  0.308]\n",
      " [-1.011  0.544 -0.103 ... -1.912  1.108 -0.307]]\n"
     ]
    }
   ],
   "source": [
    "np.set_printoptions(formatter={'float': lambda x: \"{0:6.3f}\".format(x)})\n",
    "\n",
    "sampsize = 10\n",
    "nosamps = 1000\n",
    "\n",
    "samp = np.random.standard_normal((nosamps, sampsize))\n",
    "\n",
    "print(samp)"
   ]
  },
  {
   "cell_type": "code",
   "execution_count": 20,
   "metadata": {},
   "outputs": [
    {
     "name": "stdout",
     "output_type": "stream",
     "text": [
      "[ 0.205  0.494 -0.156  0.259  0.698 -0.140 -0.125 -0.062  0.011  0.314\n",
      "  0.580  0.523  0.388 -0.120  0.028  0.221  0.152  0.723 -0.387 -0.052\n",
      "  0.132  0.365 -0.264 -0.073 -0.209  0.087 -0.441  0.553  0.363  0.160\n",
      " -0.572 -0.399 -0.079 -0.642  0.174 -0.614  0.372 -0.409  0.275 -0.476\n",
      " -0.005 -0.492 -0.464 -0.083  0.318 -0.216 -0.467  0.016  0.014  0.104\n",
      " -0.116 -0.424 -0.066 -0.088 -0.510 -0.452  0.021  0.430 -0.140 -0.147\n",
      " -0.707  0.147  0.589  0.232  0.247 -0.027  0.168  0.408 -0.183 -0.180\n",
      " -0.125 -0.202 -0.330  0.321 -0.318 -0.100 -0.308  0.369 -0.164 -0.484\n",
      " -0.180  0.268 -0.285 -0.035 -0.207 -0.495  0.082  0.257  0.076 -0.138\n",
      "  0.637 -0.028 -0.271  0.101 -0.307 -0.222 -0.405  0.027 -0.025 -0.324\n",
      " -0.121 -0.221 -0.376 -0.094 -0.263 -0.009  0.242 -0.099 -0.141  0.076\n",
      "  0.097 -0.089  0.140 -0.467  0.211 -0.316 -0.094  0.029 -0.161  0.601\n",
      " -0.283  0.756  0.200  0.045  0.009  0.363 -0.161 -0.191 -0.322  0.548\n",
      "  0.272 -0.175  0.331  0.331  0.028  0.234 -0.078  0.063 -0.010 -0.575\n",
      "  0.125  0.166 -0.157  0.175 -0.203  0.321 -0.287 -0.473  0.464  0.547\n",
      "  0.011  0.024  0.432 -0.141 -0.771  0.392 -0.242  0.036  0.133 -0.221\n",
      "  0.124 -0.103 -0.153 -0.114  0.221  0.062  0.623 -0.013 -0.185 -0.346\n",
      "  0.473  0.553 -0.489 -0.352  0.100 -0.482  0.186  0.362 -0.154  0.181\n",
      "  0.133  0.327 -0.439 -0.056 -0.102  0.524  0.470 -0.105  0.060  0.071\n",
      " -0.154 -0.304 -0.034  0.259 -0.023 -0.466  0.502 -0.106  0.311  0.668\n",
      " -0.029  0.207  0.684  0.334  0.181 -0.031 -0.293  0.535  0.026  0.490\n",
      " -0.348 -0.412 -0.246  0.450  0.457  0.582 -0.195  0.415 -0.598 -0.179\n",
      " -0.178  0.048 -0.270  0.236  0.009 -0.226 -0.141  0.899 -0.100 -0.336\n",
      "  0.305  0.355  0.291  0.658 -0.040 -0.440  0.249 -0.318 -0.319 -0.204\n",
      " -0.058  0.036 -0.228  0.142  0.453  0.277  0.312 -0.057  0.109  0.044\n",
      "  0.079  0.276  0.431  0.171 -0.359  0.320 -0.713  0.017  0.184  0.124\n",
      "  0.220  0.421 -0.765 -0.087 -0.055  0.032 -0.155  0.152 -0.482  0.018\n",
      "  0.006  0.675  0.053  0.350  0.404  0.117 -0.174 -0.310  0.288 -0.074\n",
      " -0.348  0.420  0.079  0.192 -0.363 -0.298 -0.144  0.312  0.789 -0.827\n",
      " -0.096 -0.264 -0.065  0.127  0.167 -0.007 -0.147  0.414 -0.134  0.329\n",
      "  0.193 -0.049 -0.030  0.160  0.342  0.229  0.016  0.041 -0.084 -0.300\n",
      "  0.220  0.175 -0.111  0.161 -0.274  0.705  0.023 -0.231  0.010  0.523\n",
      " -0.524  0.408  0.002 -0.620  0.050 -0.273  0.321  0.220 -0.249 -0.557\n",
      " -0.086 -0.272 -0.031  0.488  0.427 -0.006 -0.114  0.042  0.032 -0.108\n",
      " -0.013  0.177  0.627 -0.350 -0.514 -0.219 -0.073  0.426  0.728 -0.238\n",
      "  0.170 -0.217 -0.213  0.111  0.421  0.651  0.157 -0.239 -0.446 -0.218\n",
      " -0.592 -0.165  0.134  0.012  0.353  0.450 -0.271  0.549 -0.043  0.381\n",
      " -0.230  0.578 -0.451  0.043 -0.377  0.264  0.143 -0.131 -0.145 -0.334\n",
      "  0.340  0.204 -0.133  0.160 -0.382  0.485  0.141 -0.042 -0.432  0.075\n",
      "  0.460 -0.134 -0.160  0.066 -0.167  0.022 -0.264  0.215  0.044 -0.356\n",
      " -0.274 -0.078 -0.289 -0.037  0.637 -0.212  0.193 -0.189 -0.120  0.177\n",
      " -0.213  0.376 -0.171 -0.065  0.026 -0.170  0.119  0.162 -0.168  0.250\n",
      " -0.149  0.454  0.651 -0.216 -0.356  0.281 -0.151 -0.078 -0.513 -0.573\n",
      " -0.018 -0.230  0.355  0.199  0.685 -0.007  0.044  0.330  0.615  0.590\n",
      " -0.120 -0.136  0.146  0.157  0.047  0.328  0.540  0.344 -0.558  0.138\n",
      "  0.457 -0.106 -0.291 -0.174 -0.157 -0.523 -0.186 -0.156 -0.200  0.302\n",
      "  0.091 -0.431 -0.278  0.123  0.230  0.665 -0.163 -0.406 -0.305 -0.232\n",
      " -0.156  0.933  0.493  0.169 -0.226 -0.362  0.009  0.042  0.138 -0.038\n",
      " -0.098  0.015  0.447 -0.037 -0.281  0.064  0.120  0.187  0.104  0.351\n",
      " -0.480 -0.026  0.753  0.223 -0.422  0.007  0.622 -0.384 -0.956 -0.033\n",
      "  0.274 -0.150  0.001  0.370  0.003  0.455 -0.067  0.142  0.239  0.679\n",
      "  0.296  0.241  0.010 -0.298  0.153 -0.143  0.847  0.127 -0.379  0.335\n",
      "  0.385 -0.617  0.315  0.156 -0.236  0.005  0.140 -0.347  0.128 -0.260\n",
      "  0.113  0.154  0.243  0.430  0.025 -0.296  0.135 -0.016  0.123 -0.342\n",
      " -0.277  0.325 -0.258 -0.322 -0.230  0.250 -0.073 -0.585 -0.177  0.581\n",
      " -0.345 -0.293  0.559 -0.088 -0.377  0.218  0.227  0.022  0.206  0.141\n",
      " -0.208 -0.157 -0.244 -0.181 -0.404  0.085  0.064  0.048 -0.414  0.174\n",
      " -0.521 -0.044  0.176 -0.099  0.586  0.400 -0.494 -0.156 -0.292 -0.204\n",
      " -0.024 -0.028  0.089 -0.064  0.582  0.176  0.064  0.320 -0.096 -0.043\n",
      "  0.019  0.511  0.131  0.059 -0.260  0.375  0.225  0.361  0.220  0.289\n",
      " -0.039 -0.560  0.589 -0.062 -0.306 -0.074  0.317  0.142  0.076 -0.151\n",
      "  0.293  0.272  0.133  0.284 -0.430  0.051 -0.093 -0.569 -0.428  0.300\n",
      "  0.765 -0.196 -0.507 -0.266 -0.275  0.003 -0.422  0.054  0.154  0.263\n",
      " -0.385 -0.064 -0.036 -0.005 -0.219  0.013 -0.571  0.075  0.148  0.035\n",
      "  0.244  0.035 -0.053 -0.486  0.252  0.150  0.316 -0.228 -0.252 -0.267\n",
      " -0.559 -0.057 -0.430  0.283  0.251 -0.441  0.441  0.699 -0.028  0.729\n",
      "  0.421  0.211 -0.040  0.009 -0.459 -0.112  0.005  0.376  0.274 -0.241\n",
      " -0.097 -0.240  0.049  0.263 -0.077  0.099  0.280 -0.459  0.215 -0.024\n",
      " -0.130 -0.355 -0.074  0.943  0.558 -0.029  0.291 -0.170 -0.583 -0.046\n",
      "  0.151 -0.081 -0.360 -0.166 -0.441 -0.042 -0.658  0.057 -0.174 -0.299\n",
      "  0.346 -0.442 -0.053 -0.183 -0.234 -0.143  0.283  0.239 -0.011  0.331\n",
      "  0.306  0.395  0.192 -0.263 -0.034  0.158 -0.362 -0.277  0.361  0.448\n",
      " -0.153 -0.485  0.085  0.361  0.242  0.090 -0.464 -0.442  0.266 -0.116\n",
      " -0.125  0.526 -0.341 -0.195 -0.233  0.279  0.148 -0.607  0.609  0.076\n",
      "  0.074  0.129  0.210 -0.071 -0.398  0.494  0.114 -0.129 -0.240 -0.130\n",
      "  0.253  0.048 -0.301  0.020 -0.237 -0.508 -0.460 -0.303  0.457  0.167\n",
      " -0.681  0.495  0.601 -0.142 -0.722  0.090 -0.206 -0.263  0.150 -0.079\n",
      " -0.287 -0.196  0.287  0.068 -0.460 -0.354  0.505 -0.132  0.428 -0.010\n",
      " -0.034  0.159  0.576 -0.494 -0.312  0.108 -0.221 -0.085 -0.381 -0.522\n",
      "  0.357  0.169  0.247  0.265 -0.056  0.199 -0.541 -0.194 -0.539 -0.612\n",
      " -0.225  0.294 -0.304  0.088  0.611  0.263 -0.110  0.183  0.287  0.037\n",
      "  0.024  0.329  0.285 -0.224  0.457  0.351 -0.396  0.215 -0.463 -0.316\n",
      "  0.146 -0.042  0.346 -0.155 -0.560  0.278  0.587  0.240 -0.080  0.630\n",
      " -0.516  0.206 -0.293 -0.006 -0.223 -0.161 -0.313  0.564  0.207  0.091\n",
      "  0.348 -0.216  0.124  0.043  0.071  0.384  0.604 -0.260  0.657  0.053\n",
      "  0.260  0.036 -0.196  0.290  0.389 -0.005  0.265  0.310  0.107  0.018\n",
      "  0.701  0.431  0.097 -0.106  0.654 -0.118 -0.008  0.217 -0.078 -0.479\n",
      " -0.513 -0.102 -0.010 -0.487 -0.085 -0.207 -0.263 -0.225  0.196 -0.266\n",
      "  0.103 -0.402  0.337 -0.887 -0.217 -0.841  0.052 -0.105 -0.245  0.260\n",
      "  0.044 -0.096  0.249  0.353  0.627  0.033 -0.164 -0.222  0.376  0.466\n",
      " -0.017 -0.519  0.410 -0.088  0.059 -0.145  0.134 -0.476  0.035  0.683\n",
      " -0.318 -0.106  0.256  0.338  0.150 -0.196 -0.053 -0.544  0.417 -0.222\n",
      "  0.444 -0.267  0.203 -0.321 -0.347 -0.094 -0.002 -0.082 -0.422 -0.292\n",
      " -0.241  0.256  0.157 -0.166  0.022  0.054  0.245  0.012  0.077  0.051\n",
      " -0.039 -0.011  0.320  0.311  0.180  0.542  0.190 -0.135 -0.322 -0.220\n",
      " -0.573 -0.395 -0.080 -0.129 -0.139  0.137  0.073 -0.140 -0.187 -0.077\n",
      "  0.765 -0.326 -0.400 -0.288  0.688 -0.081  0.387 -0.061 -0.349  0.335\n",
      " -0.316 -0.219 -0.270  0.259  0.175  0.008  0.176 -0.191  0.316  0.234\n",
      "  0.087 -0.362  0.156  0.507 -0.081 -0.572  0.049  0.423  0.728 -0.176\n",
      "  0.293 -0.328 -0.368  0.145 -0.243  0.316 -0.134 -0.518 -0.216  0.020]\n"
     ]
    }
   ],
   "source": [
    "mean = samp.sum(axis=1) / sampsize\n",
    "print(mean)"
   ]
  },
  {
   "cell_type": "code",
   "execution_count": 21,
   "metadata": {},
   "outputs": [
    {
     "name": "stdout",
     "output_type": "stream",
     "text": [
      "0.8963435696564324\n",
      "0.9959372996182583\n"
     ]
    }
   ],
   "source": [
    "# Calculate the variance.\n",
    "vari = (samp - mean[:, np.newaxis])**2\n",
    "vari = vari.sum(axis=1) / (sampsize)\n",
    "# stddev = np.sqrt(vari)\n",
    "\n",
    "# Without the correction.\n",
    "mean_vari = vari.sum() / nosamps\n",
    "print(mean_vari)\n",
    "\n",
    "# Using Bessel's correction: https://en.wikipedia.org/wiki/Bessel%27s_correction\n",
    "print(mean_vari * (sampsize / (sampsize - 1.0)))"
   ]
  },
  {
   "cell_type": "code",
   "execution_count": 22,
   "metadata": {},
   "outputs": [
    {
     "data": {
      "text/plain": [
       "<matplotlib.axes._subplots.AxesSubplot at 0x1e4621fa970>"
      ]
     },
     "execution_count": 22,
     "metadata": {},
     "output_type": "execute_result"
    },
    {
     "data": {
      "image/png": "[encoded data removed]",
      "text/plain": [
       "<Figure size 720x432 with 1 Axes>"
      ]
     },
     "metadata": {},
     "output_type": "display_data"
    }
   ],
   "source": [
    "sns.distplot(vari)"
   ]
  },
  {
   "cell_type": "markdown",
   "metadata": {},
   "source": [
    "<br>\n",
    "\n",
    "---\n",
    "\n",
    "## SQLite in Python"
   ]
  },
  {
   "cell_type": "code",
   "execution_count": 23,
   "metadata": {},
   "outputs": [],
   "source": [
    "import sqlite3"
   ]
  },
  {
   "cell_type": "code",
   "execution_count": 24,
   "metadata": {},
   "outputs": [],
   "source": [
    "conn = sqlite3.connect(\"data/example.db\")"
   ]
  },
  {
   "cell_type": "code",
   "execution_count": 25,
   "metadata": {},
   "outputs": [],
   "source": [
    "c = conn.cursor()"
   ]
  },
  {
   "cell_type": "code",
   "execution_count": 27,
   "metadata": {},
   "outputs": [],
   "source": [
    "# c.execute(\"CREATE TABLE person(id INTEGER PRIMARY KEY, name text, address text)\")\n",
    "# conn.commit()"
   ]
  },
  {
   "cell_type": "code",
   "execution_count": 28,
   "metadata": {},
   "outputs": [
    {
     "data": {
      "text/plain": [
       "[('person',)]"
      ]
     },
     "execution_count": 28,
     "metadata": {},
     "output_type": "execute_result"
    }
   ],
   "source": [
    "c.execute(\"SELECT name FROM sqlite_master WHERE type = 'table'\")\n",
    "c.fetchall()"
   ]
  },
  {
   "cell_type": "code",
   "execution_count": 30,
   "metadata": {},
   "outputs": [],
   "source": [
    "c.execute(\"INSERT INTO person VALUES('Anna Henry', 'Carlow')\")\n",
    "conn.commit()"
   ]
  },
  {
   "cell_type": "code",
   "execution_count": 31,
   "metadata": {},
   "outputs": [
    {
     "data": {
      "text/plain": [
       "[('Anna Henry', 'Carlow')]"
      ]
     },
     "execution_count": 31,
     "metadata": {},
     "output_type": "execute_result"
    }
   ],
   "source": [
    "c.execute(\"SELECT * FROM person\")\n",
    "c.fetchall()"
   ]
  },
  {
   "cell_type": "code",
   "execution_count": 32,
   "metadata": {},
   "outputs": [],
   "source": [
    "person = [('Shelby Beck','Tipperary'), ('Marie Carr', 'Kerry'), ('Sarah Heath', 'Monaghan')]"
   ]
  },
  {
   "cell_type": "code",
   "execution_count": 33,
   "metadata": {},
   "outputs": [
    {
     "data": {
      "text/plain": [
       "[('Shelby Beck', 'Tipperary'),\n",
       " ('Marie Carr', 'Kerry'),\n",
       " ('Sarah Heath', 'Monaghan')]"
      ]
     },
     "execution_count": 33,
     "metadata": {},
     "output_type": "execute_result"
    }
   ],
   "source": [
    "person"
   ]
  },
  {
   "cell_type": "code",
   "execution_count": 35,
   "metadata": {},
   "outputs": [],
   "source": [
    "c.executemany(\"INSERT INTO person VALUES(?, ?)\", person)\n",
    "conn.commit()"
   ]
  },
  {
   "cell_type": "code",
   "execution_count": 36,
   "metadata": {},
   "outputs": [
    {
     "data": {
      "text/plain": [
       "[('Anna Henry', 'Carlow'),\n",
       " ('Shelby Beck', 'Tipperary'),\n",
       " ('Marie Carr', 'Kerry'),\n",
       " ('Sarah Heath', 'Monaghan')]"
      ]
     },
     "execution_count": 36,
     "metadata": {},
     "output_type": "execute_result"
    }
   ],
   "source": [
    "c.execute(\"SELECT * FROM person\")\n",
    "c.fetchall()"
   ]
  },
  {
   "cell_type": "code",
   "execution_count": 37,
   "metadata": {},
   "outputs": [],
   "source": [
    "c.execute(\"INSERT INTO person VALUES('Anna Henry', 'Carlow')\")\n",
    "conn.commit()"
   ]
  },
  {
   "cell_type": "code",
   "execution_count": 40,
   "metadata": {},
   "outputs": [
    {
     "data": {
      "text/plain": [
       "[(1, 'Anna Henry', 'Carlow'),\n",
       " (2, 'Shelby Beck', 'Tipperary'),\n",
       " (3, 'Marie Carr', 'Kerry'),\n",
       " (4, 'Sarah Heath', 'Monaghan'),\n",
       " (5, 'Anna Henry', 'Carlow'),\n",
       " (6, 'Anna Henry', 'Carlow')]"
      ]
     },
     "execution_count": 40,
     "metadata": {},
     "output_type": "execute_result"
    }
   ],
   "source": [
    "c.execute(\"SELECT ROWID, name, address FROM person\")\n",
    "c.fetchall()"
   ]
  },
  {
   "cell_type": "code",
   "execution_count": 43,
   "metadata": {},
   "outputs": [],
   "source": [
    "c.execute(\"DELETE FROM person where rowid=1\")\n",
    "conn.commit()"
   ]
  },
  {
   "cell_type": "code",
   "execution_count": 45,
   "metadata": {},
   "outputs": [],
   "source": [
    "c.execute(\"DELETE FROM person where rowid=6\")\n",
    "conn.commit()"
   ]
  },
  {
   "cell_type": "code",
   "execution_count": 46,
   "metadata": {},
   "outputs": [
    {
     "data": {
      "text/plain": [
       "[(2, 'Shelby Beck', 'Tipperary'),\n",
       " (3, 'Marie Carr', 'Kerry'),\n",
       " (4, 'Sarah Heath', 'Monaghan'),\n",
       " (5, 'Anna Henry', 'Carlow')]"
      ]
     },
     "execution_count": 46,
     "metadata": {},
     "output_type": "execute_result"
    }
   ],
   "source": [
    "c.execute(\"SELECT ROWID, name, address FROM person\")\n",
    "c.fetchall()"
   ]
  },
  {
   "cell_type": "code",
   "execution_count": 47,
   "metadata": {},
   "outputs": [],
   "source": [
    "c.execute(\"INSERT INTO person VALUES('Robert Snyder', 'Leitrim')\")\n",
    "conn.commit()"
   ]
  },
  {
   "cell_type": "code",
   "execution_count": 48,
   "metadata": {},
   "outputs": [
    {
     "data": {
      "text/plain": [
       "[(2, 'Shelby Beck', 'Tipperary'),\n",
       " (3, 'Marie Carr', 'Kerry'),\n",
       " (4, 'Sarah Heath', 'Monaghan'),\n",
       " (5, 'Anna Henry', 'Carlow'),\n",
       " (6, 'Robert Snyder', 'Leitrim')]"
      ]
     },
     "execution_count": 48,
     "metadata": {},
     "output_type": "execute_result"
    }
   ],
   "source": [
    "c.execute(\"SELECT ROWID, name, address FROM person\")\n",
    "c.fetchall()"
   ]
  },
  {
   "cell_type": "code",
   "execution_count": 49,
   "metadata": {},
   "outputs": [
    {
     "data": {
      "text/plain": [
       "[('person',)]"
      ]
     },
     "execution_count": 49,
     "metadata": {},
     "output_type": "execute_result"
    }
   ],
   "source": [
    "c.execute(\"SELECT name FROM SQLITE_MASTER WHERE type = 'table'\")\n",
    "c.fetchall()"
   ]
  },
  {
   "cell_type": "code",
   "execution_count": 50,
   "metadata": {},
   "outputs": [
    {
     "ename": "OperationalError",
     "evalue": "no such table: car",
     "output_type": "error",
     "traceback": [
      "\u001b[1;31m---------------------------------------------------------------------------\u001b[0m",
      "\u001b[1;31mOperationalError\u001b[0m                          Traceback (most recent call last)",
      "\u001b[1;32m<ipython-input-50-2d43f54224a5>\u001b[0m in \u001b[0;36m<module>\u001b[1;34m\u001b[0m\n\u001b[1;32m----> 1\u001b[1;33m c.execute(\"\"\" \n\u001b[0m\u001b[0;32m      2\u001b[0m     \u001b[0mSELECT\u001b[0m \u001b[0mp\u001b[0m\u001b[1;33m.\u001b[0m\u001b[0mName\u001b[0m\u001b[1;33m,\u001b[0m \u001b[0mc\u001b[0m\u001b[1;33m.\u001b[0m\u001b[0mRegistration\u001b[0m\u001b[1;33m\u001b[0m\u001b[1;33m\u001b[0m\u001b[0m\n\u001b[0;32m      3\u001b[0m     \u001b[0mFROM\u001b[0m \u001b[0mperson\u001b[0m \u001b[1;32mas\u001b[0m \u001b[0mp\u001b[0m \u001b[0mJOIN\u001b[0m \u001b[0mcar\u001b[0m \u001b[1;32mas\u001b[0m \u001b[0mc\u001b[0m \u001b[0mON\u001b[0m \u001b[0mp\u001b[0m\u001b[1;33m.\u001b[0m\u001b[0mID\u001b[0m \u001b[1;33m=\u001b[0m \u001b[0mc\u001b[0m\u001b[1;33m.\u001b[0m\u001b[0mOwnerId\u001b[0m\u001b[1;33m\u001b[0m\u001b[1;33m\u001b[0m\u001b[0m\n\u001b[0;32m      4\u001b[0m \"\"\")\n\u001b[0;32m      5\u001b[0m \u001b[0mc\u001b[0m\u001b[1;33m.\u001b[0m\u001b[0mfetchall\u001b[0m\u001b[1;33m(\u001b[0m\u001b[1;33m)\u001b[0m\u001b[1;33m\u001b[0m\u001b[1;33m\u001b[0m\u001b[0m\n",
      "\u001b[1;31mOperationalError\u001b[0m: no such table: car"
     ]
    }
   ],
   "source": [
    "c.execute(\"\"\" \n",
    "    SELECT p.Name, c.Registration\n",
    "    FROM person as p JOIN car as c ON p.ID = c.OwnerId    \n",
    "\"\"\")\n",
    "c.fetchall()"
   ]
  },
  {
   "cell_type": "code",
   "execution_count": 52,
   "metadata": {},
   "outputs": [],
   "source": [
    "conn.close()"
   ]
  },
  {
   "cell_type": "markdown",
   "metadata": {},
   "source": [
    "***"
   ]
  },
  {
   "cell_type": "code",
   "execution_count": null,
   "metadata": {},
   "outputs": [],
   "source": []
  },
  {
   "cell_type": "markdown",
   "metadata": {},
   "source": [
    "### End"
   ]
  }
 ],
 "metadata": {
  "kernelspec": {
   "display_name": "Python 3",
   "language": "python",
   "name": "python3"
  },
  "language_info": {
   "codemirror_mode": {
    "name": "ipython",
    "version": 3
   },
   "file_extension": ".py",
   "mimetype": "text/x-python",
   "name": "python",
   "nbconvert_exporter": "python",
   "pygments_lexer": "ipython3",
   "version": "3.8.3"
  }
 },
 "nbformat": 4,
 "nbformat_minor": 4
}
